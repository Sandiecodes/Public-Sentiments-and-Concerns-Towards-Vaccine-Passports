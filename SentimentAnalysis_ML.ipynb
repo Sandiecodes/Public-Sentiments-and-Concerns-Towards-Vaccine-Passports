{
  "nbformat": 4,
  "nbformat_minor": 0,
  "metadata": {
    "colab": {
      "name": "SentimentAnalysis_ML.ipynb",
      "provenance": [],
      "collapsed_sections": [],
      "authorship_tag": "ABX9TyMFKJG7nTWbylUDqYqqxygc"
    },
    "kernelspec": {
      "name": "python3",
      "display_name": "Python 3"
    },
    "language_info": {
      "name": "python"
    }
  },
  "cells": [
    {
      "cell_type": "code",
      "metadata": {
        "colab": {
          "base_uri": "https://localhost:8080/"
        },
        "id": "aP-L24rpht8J",
        "outputId": "c108a501-748c-4519-d8a6-d325a6b2301d"
      },
      "source": [
        "from google.colab import drive\n",
        "drive.mount('/content/gdrive')"
      ],
      "execution_count": null,
      "outputs": [
        {
          "output_type": "stream",
          "name": "stdout",
          "text": [
            "Drive already mounted at /content/gdrive; to attempt to forcibly remount, call drive.mount(\"/content/gdrive\", force_remount=True).\n"
          ]
        }
      ]
    },
    {
      "cell_type": "code",
      "metadata": {
        "colab": {
          "base_uri": "https://localhost:8080/"
        },
        "id": "IeR63FiUjfwT",
        "outputId": "582f8d84-1138-481d-c2c4-4fc064c88e0e"
      },
      "source": [
        "import pandas as pd\n",
        "import numpy as np\n",
        "import matplotlib.pyplot as plt\n",
        "import re\n",
        "import string\n",
        "import nltk\n",
        "from nltk.corpus import stopwords\n",
        "nltk.download(\"stopwords\")\n",
        "nltk.download('punkt')\n",
        "from nltk.tokenize import word_tokenize\n",
        "from sklearn.feature_extraction.text import TfidfVectorizer\n",
        "from sklearn.model_selection import train_test_split\n",
        "from nltk.stem import PorterStemmer\n",
        "from nltk.stem import WordNetLemmatizer\n",
        "from textblob import Word\n",
        "set(stopwords.words('english'))\n",
        "# ML Libraries\n",
        "from sklearn.metrics import accuracy_score\n",
        "from sklearn.naive_bayes import MultinomialNB\n",
        "from sklearn.linear_model import LogisticRegression\n",
        "from sklearn.svm import SVC\n",
        "from sklearn.ensemble import RandomForestClassifier"
      ],
      "execution_count": null,
      "outputs": [
        {
          "output_type": "stream",
          "name": "stdout",
          "text": [
            "[nltk_data] Downloading package stopwords to /root/nltk_data...\n",
            "[nltk_data]   Package stopwords is already up-to-date!\n",
            "[nltk_data] Downloading package punkt to /root/nltk_data...\n",
            "[nltk_data]   Package punkt is already up-to-date!\n"
          ]
        }
      ]
    },
    {
      "cell_type": "code",
      "metadata": {
        "id": "CcVC8vJ6oayU"
      },
      "source": [
        "# Global Parameters\n",
        "stop_words = set(stopwords.words('english'))"
      ],
      "execution_count": null,
      "outputs": []
    },
    {
      "cell_type": "code",
      "metadata": {
        "colab": {
          "base_uri": "https://localhost:8080/",
          "height": 468
        },
        "id": "vZiuQf8XjQf5",
        "outputId": "d9ecfcc4-fd1e-407a-9203-3b775ddc9b9f"
      },
      "source": [
        "#Load new dataset\n",
        "data = pd.read_csv('/content/gdrive/My Drive/PhD/Program_Doc/Assignment/Project_Dataset/Labelled_Pos_Neg.csv')\n",
        "data.head()"
      ],
      "execution_count": null,
      "outputs": [
        {
          "output_type": "execute_result",
          "data": {
            "text/html": [
              "<div>\n",
              "<style scoped>\n",
              "    .dataframe tbody tr th:only-of-type {\n",
              "        vertical-align: middle;\n",
              "    }\n",
              "\n",
              "    .dataframe tbody tr th {\n",
              "        vertical-align: top;\n",
              "    }\n",
              "\n",
              "    .dataframe thead th {\n",
              "        text-align: right;\n",
              "    }\n",
              "</style>\n",
              "<table border=\"1\" class=\"dataframe\">\n",
              "  <thead>\n",
              "    <tr style=\"text-align: right;\">\n",
              "      <th></th>\n",
              "      <th>username</th>\n",
              "      <th>author_location</th>\n",
              "      <th>text</th>\n",
              "      <th>created_at</th>\n",
              "      <th>Text_punc</th>\n",
              "      <th>Text_stop</th>\n",
              "      <th>Text_tokenized</th>\n",
              "      <th>Text_lemmatized</th>\n",
              "      <th>Text_cleaned</th>\n",
              "      <th>Sentiment</th>\n",
              "      <th>neg</th>\n",
              "      <th>neu</th>\n",
              "      <th>pos</th>\n",
              "      <th>compound</th>\n",
              "    </tr>\n",
              "  </thead>\n",
              "  <tbody>\n",
              "    <tr>\n",
              "      <th>0</th>\n",
              "      <td>cloudslicer</td>\n",
              "      <td>NaN</td>\n",
              "      <td>this creeping extension of social control and ...</td>\n",
              "      <td>2021-02-14 23:49:18+00:00</td>\n",
              "      <td>this creeping extension of social control and ...</td>\n",
              "      <td>creeping extension social control power state ...</td>\n",
              "      <td>['creeping', 'extension', 'social', 'control',...</td>\n",
              "      <td>['creeping', 'extension', 'social', 'control',...</td>\n",
              "      <td>creeping extension social control power state ...</td>\n",
              "      <td>positive</td>\n",
              "      <td>0.000</td>\n",
              "      <td>0.833</td>\n",
              "      <td>0.167</td>\n",
              "      <td>0.2023</td>\n",
              "    </tr>\n",
              "    <tr>\n",
              "      <th>1</th>\n",
              "      <td>JohnStauber</td>\n",
              "      <td>Citizen-at-Large</td>\n",
              "      <td>#vaccinepassports' could be used inside the un...</td>\n",
              "      <td>2021-02-14 23:45:25+00:00</td>\n",
              "      <td>vaccinepassports could be used inside the unit...</td>\n",
              "      <td>vaccinepassports could used inside united kingdom</td>\n",
              "      <td>['vaccinepassports', 'could', 'used', 'inside'...</td>\n",
              "      <td>['vaccinepassports', 'could', 'used', 'inside'...</td>\n",
              "      <td>vaccinepassports could used inside united kingdom</td>\n",
              "      <td>positive</td>\n",
              "      <td>0.000</td>\n",
              "      <td>0.641</td>\n",
              "      <td>0.359</td>\n",
              "      <td>0.4215</td>\n",
              "    </tr>\n",
              "    <tr>\n",
              "      <th>2</th>\n",
              "      <td>SRL_82</td>\n",
              "      <td>Melton Mowbray, England</td>\n",
              "      <td>the uk should take the lead in creating a glob...</td>\n",
              "      <td>2021-02-14 23:43:01+00:00</td>\n",
              "      <td>the uk should take the lead in creating a glob...</td>\n",
              "      <td>uk take lead creating global coronavirus vacci...</td>\n",
              "      <td>['uk', 'take', 'lead', 'creating', 'global', '...</td>\n",
              "      <td>['uk', 'take', 'lead', 'creating', 'global', '...</td>\n",
              "      <td>uk take lead creating global coronavirus vacci...</td>\n",
              "      <td>positive</td>\n",
              "      <td>0.000</td>\n",
              "      <td>0.686</td>\n",
              "      <td>0.314</td>\n",
              "      <td>0.6705</td>\n",
              "    </tr>\n",
              "    <tr>\n",
              "      <th>3</th>\n",
              "      <td>flackster</td>\n",
              "      <td>Middle-earth</td>\n",
              "      <td>🏁100,000 signatures received - thank you! 🏁🙏we...</td>\n",
              "      <td>2021-02-14 23:28:10+00:00</td>\n",
              "      <td>100000 signatures received  thank you were gra...</td>\n",
              "      <td>100000 signatures received thank grateful ever...</td>\n",
              "      <td>['100000', 'signatures', 'received', 'thank', ...</td>\n",
              "      <td>['100000', 'signature', 'received', 'thank', '...</td>\n",
              "      <td>100000 signature received thank grateful every...</td>\n",
              "      <td>positive</td>\n",
              "      <td>0.000</td>\n",
              "      <td>0.448</td>\n",
              "      <td>0.552</td>\n",
              "      <td>0.7497</td>\n",
              "    </tr>\n",
              "    <tr>\n",
              "      <th>4</th>\n",
              "      <td>shalomegrace1</td>\n",
              "      <td>NaN</td>\n",
              "      <td>here's the war criminal pushing #vaccinepasspo...</td>\n",
              "      <td>2021-02-14 23:19:49+00:00</td>\n",
              "      <td>heres the war criminal pushing vaccinepassport...</td>\n",
              "      <td>heres war criminal pushing vaccinepassports ev...</td>\n",
              "      <td>['heres', 'war', 'criminal', 'pushing', 'vacci...</td>\n",
              "      <td>['here', 'war', 'criminal', 'pushing', 'vaccin...</td>\n",
              "      <td>here war criminal pushing vaccinepassports eve...</td>\n",
              "      <td>negative</td>\n",
              "      <td>0.554</td>\n",
              "      <td>0.446</td>\n",
              "      <td>0.000</td>\n",
              "      <td>-0.8271</td>\n",
              "    </tr>\n",
              "  </tbody>\n",
              "</table>\n",
              "</div>"
            ],
            "text/plain": [
              "        username          author_location  ...    pos compound\n",
              "0    cloudslicer                      NaN  ...  0.167   0.2023\n",
              "1    JohnStauber         Citizen-at-Large  ...  0.359   0.4215\n",
              "2         SRL_82  Melton Mowbray, England  ...  0.314   0.6705\n",
              "3      flackster             Middle-earth  ...  0.552   0.7497\n",
              "4  shalomegrace1                      NaN  ...  0.000  -0.8271\n",
              "\n",
              "[5 rows x 14 columns]"
            ]
          },
          "metadata": {},
          "execution_count": 5
        }
      ]
    },
    {
      "cell_type": "code",
      "metadata": {
        "id": "TLqQbJ-tj-0y"
      },
      "source": [
        "def to_sentiment(rating):\n",
        "  #rating = int(rating)\n",
        "  if rating == \"neutral\":\n",
        "    return 0\n",
        "  elif rating == \"positive\":\n",
        "    return 1\n",
        "  else: \n",
        "    return 2\n",
        "\n",
        "data['label'] = data.Sentiment.apply(to_sentiment)"
      ],
      "execution_count": null,
      "outputs": []
    },
    {
      "cell_type": "code",
      "metadata": {
        "id": "rwQKBHfilOmi"
      },
      "source": [
        "def remove_unwanted_cols(dataset, cols):\n",
        "    for col in cols:\n",
        "        del dataset[col]\n",
        "    return dataset"
      ],
      "execution_count": null,
      "outputs": []
    },
    {
      "cell_type": "code",
      "metadata": {
        "colab": {
          "base_uri": "https://localhost:8080/",
          "height": 206
        },
        "id": "mtQZwUiqlV0F",
        "outputId": "2bc5fbe5-78b5-4980-f7b2-a36f706da79d"
      },
      "source": [
        "data = remove_unwanted_cols(data, ['Text_cleaned', 'Sentiment', 'Text_punc', 'Text_tokenized','neu','pos','neg',\n",
        "                                      'created_at', 'username', 'author_location', 'Text_stop','Text_lemmatized','compound'])\n",
        "data.head()"
      ],
      "execution_count": null,
      "outputs": [
        {
          "output_type": "execute_result",
          "data": {
            "text/html": [
              "<div>\n",
              "<style scoped>\n",
              "    .dataframe tbody tr th:only-of-type {\n",
              "        vertical-align: middle;\n",
              "    }\n",
              "\n",
              "    .dataframe tbody tr th {\n",
              "        vertical-align: top;\n",
              "    }\n",
              "\n",
              "    .dataframe thead th {\n",
              "        text-align: right;\n",
              "    }\n",
              "</style>\n",
              "<table border=\"1\" class=\"dataframe\">\n",
              "  <thead>\n",
              "    <tr style=\"text-align: right;\">\n",
              "      <th></th>\n",
              "      <th>text</th>\n",
              "      <th>label</th>\n",
              "    </tr>\n",
              "  </thead>\n",
              "  <tbody>\n",
              "    <tr>\n",
              "      <th>0</th>\n",
              "      <td>this creeping extension of social control and ...</td>\n",
              "      <td>1</td>\n",
              "    </tr>\n",
              "    <tr>\n",
              "      <th>1</th>\n",
              "      <td>#vaccinepassports' could be used inside the un...</td>\n",
              "      <td>1</td>\n",
              "    </tr>\n",
              "    <tr>\n",
              "      <th>2</th>\n",
              "      <td>the uk should take the lead in creating a glob...</td>\n",
              "      <td>1</td>\n",
              "    </tr>\n",
              "    <tr>\n",
              "      <th>3</th>\n",
              "      <td>🏁100,000 signatures received - thank you! 🏁🙏we...</td>\n",
              "      <td>1</td>\n",
              "    </tr>\n",
              "    <tr>\n",
              "      <th>4</th>\n",
              "      <td>here's the war criminal pushing #vaccinepasspo...</td>\n",
              "      <td>2</td>\n",
              "    </tr>\n",
              "  </tbody>\n",
              "</table>\n",
              "</div>"
            ],
            "text/plain": [
              "                                                text  label\n",
              "0  this creeping extension of social control and ...      1\n",
              "1  #vaccinepassports' could be used inside the un...      1\n",
              "2  the uk should take the lead in creating a glob...      1\n",
              "3  🏁100,000 signatures received - thank you! 🏁🙏we...      1\n",
              "4  here's the war criminal pushing #vaccinepasspo...      2"
            ]
          },
          "metadata": {},
          "execution_count": 8
        }
      ]
    },
    {
      "cell_type": "code",
      "metadata": {
        "id": "-1VMn2SdnNcp"
      },
      "source": [
        "def preprocess_tweet_text(tweet):\n",
        "    tweet = str(tweet).lower()\n",
        "    # Remove urls\n",
        "    tweet = re.sub(r\"http\\S+|www\\S+|https\\S+\", '', str(tweet), flags=re.MULTILINE)\n",
        "    # Remove user @ references and '#' from tweet\n",
        "    tweet = re.sub(r'\\@\\w+|\\#','', str(tweet))\n",
        "    # Remove punctuations\n",
        "    tweet = tweet.translate(str.maketrans('', '', string.punctuation))\n",
        "    # Remove stopwords\n",
        "    tweet_tokens = word_tokenize(tweet)\n",
        "    filtered_words = [w for w in tweet_tokens if not w in stop_words]\n",
        "    \n",
        "    #ps = PorterStemmer()\n",
        "    #stemmed_words = [ps.stem(w) for w in filtered_words]\n",
        "    #lemmatizer = WordNetLemmatizer()\n",
        "    #lemma_words = [lemmatizer.lemmatize(w, pos='a') for w in stemmed_words]\n",
        "    \n",
        "    return \" \".join(filtered_words)"
      ],
      "execution_count": null,
      "outputs": []
    },
    {
      "cell_type": "code",
      "metadata": {
        "id": "gBEJcTUBmsqQ"
      },
      "source": [
        "def get_feature_vector(train_fit):\n",
        "    vector = TfidfVectorizer(sublinear_tf=True)\n",
        "    vector.fit(train_fit)\n",
        "    return vector"
      ],
      "execution_count": null,
      "outputs": []
    },
    {
      "cell_type": "code",
      "metadata": {
        "colab": {
          "base_uri": "https://localhost:8080/",
          "height": 206
        },
        "id": "7WsXAX3gpSUn",
        "outputId": "70c59996-5aa8-43a6-8104-f01a4e3d0c37"
      },
      "source": [
        "data.head()"
      ],
      "execution_count": null,
      "outputs": [
        {
          "output_type": "execute_result",
          "data": {
            "text/html": [
              "<div>\n",
              "<style scoped>\n",
              "    .dataframe tbody tr th:only-of-type {\n",
              "        vertical-align: middle;\n",
              "    }\n",
              "\n",
              "    .dataframe tbody tr th {\n",
              "        vertical-align: top;\n",
              "    }\n",
              "\n",
              "    .dataframe thead th {\n",
              "        text-align: right;\n",
              "    }\n",
              "</style>\n",
              "<table border=\"1\" class=\"dataframe\">\n",
              "  <thead>\n",
              "    <tr style=\"text-align: right;\">\n",
              "      <th></th>\n",
              "      <th>text</th>\n",
              "      <th>label</th>\n",
              "    </tr>\n",
              "  </thead>\n",
              "  <tbody>\n",
              "    <tr>\n",
              "      <th>0</th>\n",
              "      <td>this creeping extension of social control and ...</td>\n",
              "      <td>1</td>\n",
              "    </tr>\n",
              "    <tr>\n",
              "      <th>1</th>\n",
              "      <td>#vaccinepassports' could be used inside the un...</td>\n",
              "      <td>1</td>\n",
              "    </tr>\n",
              "    <tr>\n",
              "      <th>2</th>\n",
              "      <td>the uk should take the lead in creating a glob...</td>\n",
              "      <td>1</td>\n",
              "    </tr>\n",
              "    <tr>\n",
              "      <th>3</th>\n",
              "      <td>🏁100,000 signatures received - thank you! 🏁🙏we...</td>\n",
              "      <td>1</td>\n",
              "    </tr>\n",
              "    <tr>\n",
              "      <th>4</th>\n",
              "      <td>here's the war criminal pushing #vaccinepasspo...</td>\n",
              "      <td>2</td>\n",
              "    </tr>\n",
              "  </tbody>\n",
              "</table>\n",
              "</div>"
            ],
            "text/plain": [
              "                                                text  label\n",
              "0  this creeping extension of social control and ...      1\n",
              "1  #vaccinepassports' could be used inside the un...      1\n",
              "2  the uk should take the lead in creating a glob...      1\n",
              "3  🏁100,000 signatures received - thank you! 🏁🙏we...      1\n",
              "4  here's the war criminal pushing #vaccinepasspo...      2"
            ]
          },
          "metadata": {},
          "execution_count": 11
        }
      ]
    },
    {
      "cell_type": "code",
      "metadata": {
        "colab": {
          "base_uri": "https://localhost:8080/"
        },
        "id": "kz--8EZ-plUd",
        "outputId": "97d53849-6fef-4842-af19-3a4e611eac10"
      },
      "source": [
        "titles = list(data.columns)\n",
        "titles"
      ],
      "execution_count": null,
      "outputs": [
        {
          "output_type": "execute_result",
          "data": {
            "text/plain": [
              "['text', 'label']"
            ]
          },
          "metadata": {},
          "execution_count": 12
        }
      ]
    },
    {
      "cell_type": "code",
      "metadata": {
        "colab": {
          "base_uri": "https://localhost:8080/"
        },
        "id": "7xYHKQJnptKJ",
        "outputId": "7aa0fbc8-1ee4-4ae1-81fe-f5af1ba3a7b1"
      },
      "source": [
        "titles[0],titles[1] = titles[1],titles[0]\n",
        "titles"
      ],
      "execution_count": null,
      "outputs": [
        {
          "output_type": "execute_result",
          "data": {
            "text/plain": [
              "['label', 'text']"
            ]
          },
          "metadata": {},
          "execution_count": 13
        }
      ]
    },
    {
      "cell_type": "code",
      "metadata": {
        "colab": {
          "base_uri": "https://localhost:8080/",
          "height": 423
        },
        "id": "KMIevQ28qLOk",
        "outputId": "d9487377-f10b-40af-844f-ede6b936dc11"
      },
      "source": [
        "data = data[titles]\n",
        "data"
      ],
      "execution_count": null,
      "outputs": [
        {
          "output_type": "execute_result",
          "data": {
            "text/html": [
              "<div>\n",
              "<style scoped>\n",
              "    .dataframe tbody tr th:only-of-type {\n",
              "        vertical-align: middle;\n",
              "    }\n",
              "\n",
              "    .dataframe tbody tr th {\n",
              "        vertical-align: top;\n",
              "    }\n",
              "\n",
              "    .dataframe thead th {\n",
              "        text-align: right;\n",
              "    }\n",
              "</style>\n",
              "<table border=\"1\" class=\"dataframe\">\n",
              "  <thead>\n",
              "    <tr style=\"text-align: right;\">\n",
              "      <th></th>\n",
              "      <th>label</th>\n",
              "      <th>text</th>\n",
              "    </tr>\n",
              "  </thead>\n",
              "  <tbody>\n",
              "    <tr>\n",
              "      <th>0</th>\n",
              "      <td>1</td>\n",
              "      <td>this creeping extension of social control and ...</td>\n",
              "    </tr>\n",
              "    <tr>\n",
              "      <th>1</th>\n",
              "      <td>1</td>\n",
              "      <td>#vaccinepassports' could be used inside the un...</td>\n",
              "    </tr>\n",
              "    <tr>\n",
              "      <th>2</th>\n",
              "      <td>1</td>\n",
              "      <td>the uk should take the lead in creating a glob...</td>\n",
              "    </tr>\n",
              "    <tr>\n",
              "      <th>3</th>\n",
              "      <td>1</td>\n",
              "      <td>🏁100,000 signatures received - thank you! 🏁🙏we...</td>\n",
              "    </tr>\n",
              "    <tr>\n",
              "      <th>4</th>\n",
              "      <td>2</td>\n",
              "      <td>here's the war criminal pushing #vaccinepasspo...</td>\n",
              "    </tr>\n",
              "    <tr>\n",
              "      <th>...</th>\n",
              "      <td>...</td>\n",
              "      <td>...</td>\n",
              "    </tr>\n",
              "    <tr>\n",
              "      <th>40606</th>\n",
              "      <td>1</td>\n",
              "      <td>goes to show what total #covid19 bs we're all ...</td>\n",
              "    </tr>\n",
              "    <tr>\n",
              "      <th>40607</th>\n",
              "      <td>1</td>\n",
              "      <td>public is being misled re: #vaccinepass...</td>\n",
              "    </tr>\n",
              "    <tr>\n",
              "      <th>40608</th>\n",
              "      <td>1</td>\n",
              "      <td>whitsundays, hamilton,  alice springs top autu...</td>\n",
              "    </tr>\n",
              "    <tr>\n",
              "      <th>40609</th>\n",
              "      <td>2</td>\n",
              "      <td>how many of the anti vaccine passport people d...</td>\n",
              "    </tr>\n",
              "    <tr>\n",
              "      <th>40610</th>\n",
              "      <td>1</td>\n",
              "      <td>we already have passports to travel. #v...</td>\n",
              "    </tr>\n",
              "  </tbody>\n",
              "</table>\n",
              "<p>40611 rows × 2 columns</p>\n",
              "</div>"
            ],
            "text/plain": [
              "       label                                               text\n",
              "0          1  this creeping extension of social control and ...\n",
              "1          1  #vaccinepassports' could be used inside the un...\n",
              "2          1  the uk should take the lead in creating a glob...\n",
              "3          1  🏁100,000 signatures received - thank you! 🏁🙏we...\n",
              "4          2  here's the war criminal pushing #vaccinepasspo...\n",
              "...      ...                                                ...\n",
              "40606      1  goes to show what total #covid19 bs we're all ...\n",
              "40607      1         public is being misled re: #vaccinepass...\n",
              "40608      1  whitsundays, hamilton,  alice springs top autu...\n",
              "40609      2  how many of the anti vaccine passport people d...\n",
              "40610      1         we already have passports to travel. #v...\n",
              "\n",
              "[40611 rows x 2 columns]"
            ]
          },
          "metadata": {},
          "execution_count": 14
        }
      ]
    },
    {
      "cell_type": "code",
      "metadata": {
        "id": "2arZq_zLqaF8"
      },
      "source": [
        "#Preprocess data\n",
        "data.text = data['text'].apply(preprocess_tweet_text)"
      ],
      "execution_count": null,
      "outputs": []
    },
    {
      "cell_type": "code",
      "metadata": {
        "id": "xxrjc81Pk_QL"
      },
      "source": [
        "# Same tf vector will be used for Testing sentiments on unseen trending data\n",
        "tf_vector = get_feature_vector(np.array(data.iloc[:, 1]).ravel())\n",
        "X = tf_vector.transform(np.array(data.iloc[:, 1]).ravel())\n",
        "y = np.array(data.iloc[:, 0]).ravel()"
      ],
      "execution_count": null,
      "outputs": []
    },
    {
      "cell_type": "code",
      "metadata": {
        "id": "AR-6PQu07wln"
      },
      "source": [
        "#Cross Validation\n",
        "\n",
        "from sklearn import metrics\n",
        "from sklearn.model_selection import cross_val_score\n",
        "import seaborn as sns\n",
        "from sklearn.model_selection import KFold\n",
        "\n",
        "svm= SVC(kernel='linear')\n",
        "NB = MultinomialNB()\n",
        "LR = LogisticRegression(solver='sag')\n",
        "RF = RandomForestClassifier(n_estimators=200)"
      ],
      "execution_count": null,
      "outputs": []
    },
    {
      "cell_type": "code",
      "metadata": {
        "colab": {
          "base_uri": "https://localhost:8080/"
        },
        "id": "Dx6FhrZ19oEC",
        "outputId": "8c4d03b4-08ee-4de0-eed3-8cec431672ba"
      },
      "source": [
        "# Define report generator\n",
        "\n",
        "def generate_report(cmatrix, score, creport):\n",
        "  \"\"\"Generates and displays graphical reports\n",
        "  Keyword arguments:\n",
        "    cmatrix - Confusion matrix generated by the model\n",
        "    score --- Score generated by the model\n",
        "    creport - Classification Report generated by the model\n",
        "    \n",
        "  :Returns -- N/A\n",
        "  \"\"\"\n",
        "  \n",
        "  # Generate confusion matrix heatmap\n",
        "  plt.figure(figsize=(5,5))\n",
        "  sns.heatmap(cmatrix, \n",
        "              annot=True, \n",
        "              fmt=\"d\", \n",
        "              linewidths=.5, \n",
        "              square = True, \n",
        "              cmap = 'Blues', \n",
        "              annot_kws={\"size\": 16}, \n",
        "              xticklabels=['Negative', 'Positive'],\n",
        "              yticklabels=['Negative', 'Positive'])\n",
        "\n",
        "  plt.xticks(rotation='horizontal', fontsize=16)\n",
        "  plt.yticks(rotation='horizontal', fontsize=16)\n",
        "  plt.xlabel('Actual Label', size=20);\n",
        "  plt.ylabel('Predicted Label', size=20);\n",
        "\n",
        "  title = 'Accuracy Score: {0:.4f}'.format(score)\n",
        "  plt.title(title, size = 20);\n",
        "\n",
        "  # Display classification report and confusion matrix\n",
        "  print(creport)\n",
        "  plt.show()\n",
        "  \n",
        "\n",
        "print(\"\\n### Report Generator Defined ###\\n\")"
      ],
      "execution_count": null,
      "outputs": [
        {
          "output_type": "stream",
          "name": "stdout",
          "text": [
            "\n",
            "### Report Generator Defined ###\n",
            "\n"
          ]
        }
      ]
    },
    {
      "cell_type": "code",
      "metadata": {
        "id": "iLN3A2pE78yy"
      },
      "source": [
        "kf = KFold(n_splits=10,random_state=None, shuffle=False)\n",
        "for train_index, test_index in kf.split(X):\n",
        "  X_train, X_test = X[train_index], X[test_index]\n",
        "  y_train, y_test = y[train_index], y[test_index]"
      ],
      "execution_count": null,
      "outputs": []
    },
    {
      "cell_type": "code",
      "metadata": {
        "colab": {
          "base_uri": "https://localhost:8080/",
          "height": 546
        },
        "id": "r-ykW73J9JtA",
        "outputId": "d1a3ee59-052b-4044-ba6b-476076abc8e1"
      },
      "source": [
        "#Logistic Regression\n",
        "# Train the model\n",
        "LR.fit(X_train, y_train)\n",
        "\n",
        "\n",
        "# Test the mode (score, predictions, confusion matrix, classification report)\n",
        "score_lr = LR.score(X_test, y_test)\n",
        "predictions_lr = LR.predict(X_test)\n",
        "cmatrix_lr = metrics.confusion_matrix(predictions_lr,y_test)\n",
        "creport_lr = metrics.classification_report(predictions_lr, y_test)\n",
        "\n",
        "print(\"\\n### Model Built for LR ###\\n\")\n",
        "generate_report(cmatrix_lr, score_lr, creport_lr)"
      ],
      "execution_count": null,
      "outputs": [
        {
          "output_type": "stream",
          "name": "stdout",
          "text": [
            "\n",
            "### Model Built for LR ###\n",
            "\n",
            "              precision    recall  f1-score   support\n",
            "\n",
            "           1       0.92      0.84      0.88      2709\n",
            "           2       0.72      0.85      0.78      1352\n",
            "\n",
            "    accuracy                           0.84      4061\n",
            "   macro avg       0.82      0.85      0.83      4061\n",
            "weighted avg       0.85      0.84      0.85      4061\n",
            "\n"
          ]
        },
        {
          "output_type": "display_data",
          "data": {
            "image/png": "[encoded data removed]",
            "text/plain": [
              "<Figure size 360x360 with 2 Axes>"
            ]
          },
          "metadata": {
            "needs_background": "light"
          }
        }
      ]
    },
    {
      "cell_type": "code",
      "metadata": {
        "colab": {
          "base_uri": "https://localhost:8080/",
          "height": 544
        },
        "id": "qqexmvN7-kII",
        "outputId": "789ed5b4-461d-47b3-b0be-c8cabb0b6e15"
      },
      "source": [
        "#NaiveBayes\n",
        "# Train the model\n",
        "NB.fit(X_train, y_train)\n",
        "\n",
        "\n",
        "# Test the mode (score, predictions, confusion matrix, classification report)\n",
        "score_nb = NB.score(X_test, y_test)\n",
        "predictions_nb = NB.predict(X_test)\n",
        "cmatrix_nb = metrics.confusion_matrix(predictions_nb,y_test)\n",
        "creport_nb = metrics.classification_report(predictions_nb, y_test)\n",
        "\n",
        "print(\"\\n### Model Built for NB ###\\n\")\n",
        "generate_report(cmatrix_nb, score_nb, creport_nb)"
      ],
      "execution_count": null,
      "outputs": [
        {
          "output_type": "stream",
          "name": "stdout",
          "text": [
            "\n",
            "### Model Built for NB ###\n",
            "\n",
            "              precision    recall  f1-score   support\n",
            "\n",
            "           1       0.90      0.73      0.80      3063\n",
            "           2       0.47      0.75      0.58       998\n",
            "\n",
            "    accuracy                           0.73      4061\n",
            "   macro avg       0.69      0.74      0.69      4061\n",
            "weighted avg       0.80      0.73      0.75      4061\n",
            "\n"
          ]
        },
        {
          "output_type": "display_data",
          "data": {
            "image/png": "[encoded data removed]",
            "text/plain": [
              "<Figure size 360x360 with 2 Axes>"
            ]
          },
          "metadata": {
            "needs_background": "light"
          }
        }
      ]
    },
    {
      "cell_type": "code",
      "metadata": {
        "colab": {
          "base_uri": "https://localhost:8080/",
          "height": 547
        },
        "id": "5w-monhK_Rkb",
        "outputId": "0d6484b2-ec1f-484c-fe57-b9a985068a7f"
      },
      "source": [
        "#SVM\n",
        "# Train the model\n",
        "svm.fit(X_train, y_train)\n",
        "\n",
        "\n",
        "# Test the mode (score, predictions, confusion matrix, classification report)\n",
        "score_svm = svm.score(X_test, y_test)\n",
        "predictions_svm = svm.predict(X_test)\n",
        "cmatrix_svm = metrics.confusion_matrix(predictions_svm,y_test)\n",
        "creport_svm = metrics.classification_report(predictions_svm, y_test)\n",
        "\n",
        "print(\"\\n### Model Built for SVM ###\\n\")\n",
        "generate_report(cmatrix_svm, score_svm, creport_svm)"
      ],
      "execution_count": null,
      "outputs": [
        {
          "output_type": "stream",
          "name": "stdout",
          "text": [
            "\n",
            "### Model Built for SVM ###\n",
            "\n",
            "              precision    recall  f1-score   support\n",
            "\n",
            "           1       0.91      0.85      0.88      2653\n",
            "           2       0.75      0.85      0.80      1408\n",
            "\n",
            "    accuracy                           0.85      4061\n",
            "   macro avg       0.83      0.85      0.84      4061\n",
            "weighted avg       0.86      0.85      0.85      4061\n",
            "\n"
          ]
        },
        {
          "output_type": "display_data",
          "data": {
            "image/png": "[encoded data removed]",
            "text/plain": [
              "<Figure size 360x360 with 2 Axes>"
            ]
          },
          "metadata": {
            "needs_background": "light"
          }
        }
      ]
    },
    {
      "cell_type": "code",
      "metadata": {
        "colab": {
          "base_uri": "https://localhost:8080/",
          "height": 545
        },
        "id": "Xoccpwm_BQhi",
        "outputId": "ebb33784-29a1-46c8-b644-7d7f6839e434"
      },
      "source": [
        "#Random Forest\n",
        "# Train the model\n",
        "RF.fit(X_train, y_train)\n",
        "\n",
        "\n",
        "# Test the mode (score, predictions, confusion matrix, classification report)\n",
        "score_rf = RF.score(X_test, y_test)\n",
        "predictions_rf = RF.predict(X_test)\n",
        "cmatrix_rf = metrics.confusion_matrix(predictions_rf,y_test)\n",
        "creport_rf = metrics.classification_report(predictions_rf, y_test)\n",
        "\n",
        "print(\"\\n### Model Built for RF ###\\n\")\n",
        "generate_report(cmatrix_rf, score_rf, creport_rf)"
      ],
      "execution_count": null,
      "outputs": [
        {
          "output_type": "stream",
          "name": "stdout",
          "text": [
            "\n",
            "### Model Built for RF ###\n",
            "\n",
            "              precision    recall  f1-score   support\n",
            "\n",
            "           1       0.92      0.80      0.86      2830\n",
            "           2       0.65      0.84      0.73      1231\n",
            "\n",
            "    accuracy                           0.81      4061\n",
            "   macro avg       0.79      0.82      0.80      4061\n",
            "weighted avg       0.84      0.81      0.82      4061\n",
            "\n"
          ]
        },
        {
          "output_type": "display_data",
          "data": {
            "image/png": "[encoded data removed]",
            "text/plain": [
              "<Figure size 360x360 with 2 Axes>"
            ]
          },
          "metadata": {
            "needs_background": "light"
          }
        }
      ]
    },
    {
      "cell_type": "code",
      "metadata": {
        "colab": {
          "base_uri": "https://localhost:8080/"
        },
        "id": "VvjTMyvertdR",
        "outputId": "067451a5-8ed9-4375-c7bf-0d92b29b884f"
      },
      "source": [
        "#Cross Validation\n",
        "\n",
        "from sklearn import metrics\n",
        "from sklearn.model_selection import cross_val_score\n",
        "import seaborn as sns\n",
        "from sklearn.model_selection import KFold\n",
        "\n",
        "svm= SVC()\n",
        "NB = MultinomialNB()\n",
        "LR = LogisticRegression(solver='sag')\n",
        "RF = RandomForestClassifier()\n",
        "\n",
        "label = ['Logistic Regression', 'Naives Bayes', 'SVM', 'RandomForest']\n",
        "b_list=[LR,NB,svm,RF]\n",
        "clf_cv_mean = []\n",
        "clf_cv_std = []\n",
        "for clf, label in zip(b_list, label):\n",
        "    scores = cross_val_score(clf, X, y, cv=10, scoring='accuracy')\n",
        "    scores_recall = cross_val_score(clf, X, y, cv=10, scoring='recall')\n",
        "    scores_pre = cross_val_score(clf, X, y, cv=10, scoring='precision')\n",
        "    scores_f1 = cross_val_score(clf, X, y, cv=10, scoring='f1')\n",
        "    print (\"Accuracy: %.2f (+/- %.2f) [%s]\" %(scores.mean(), scores.std(), label))\n",
        "    print (\"Recall: %.2f (+/- %.2f) [%s]\" %(scores_recall.mean(), scores_recall.std(), label))\n",
        "    print (\"Precision: %.2f (+/- %.2f) [%s]\" %(scores_pre.mean(), scores_pre.std(), label))\n",
        "    print (\"F1_Score: %.2f (+/- %.2f) [%s]\" %(scores_f1.mean(), scores_f1.std(), label))\n",
        "    #clf_cv_mean.append(scores.mean())\n",
        "    #clf_cv_std.append(scores.std())"
      ],
      "execution_count": null,
      "outputs": [
        {
          "output_type": "stream",
          "name": "stdout",
          "text": [
            "Accuracy: 0.84 (+/- 0.01) [Logistic Regression]\n",
            "Recall: 0.90 (+/- 0.02) [Logistic Regression]\n",
            "Precision: 0.83 (+/- 0.01) [Logistic Regression]\n",
            "F1_Score: 0.87 (+/- 0.01) [Logistic Regression]\n",
            "Accuracy: 0.75 (+/- 0.02) [Naives Bayes]\n",
            "Recall: 0.93 (+/- 0.02) [Naives Bayes]\n",
            "Precision: 0.72 (+/- 0.02) [Naives Bayes]\n",
            "F1_Score: 0.81 (+/- 0.01) [Naives Bayes]\n"
          ]
        }
      ]
    },
    {
      "cell_type": "code",
      "metadata": {
        "id": "9dtvOPT1tpRP"
      },
      "source": [
        ""
      ],
      "execution_count": null,
      "outputs": []
    },
    {
      "cell_type": "code",
      "metadata": {
        "colab": {
          "base_uri": "https://localhost:8080/"
        },
        "id": "q9bqMOkN90NJ",
        "outputId": "c18fdd96-e8b2-4377-a0b2-71ee0bc6f079"
      },
      "source": [
        "# Split dataset into Train, Test\n",
        "\n",
        "X_train, X_test, y_train, y_test = train_test_split(X, y, test_size=0.2, random_state=30)\n",
        "\n",
        "# Training Naive Bayes model\n",
        "NB_model = MultinomialNB()\n",
        "NB_model.fit(X_train, y_train)\n",
        "y_predict_nb = NB_model.predict(X_test)\n",
        "print(\"MultinomialNB(): \" + str(accuracy_score(y_test, y_predict_nb)))\n",
        "\n",
        "\n",
        "\n",
        "\n"
      ],
      "execution_count": null,
      "outputs": [
        {
          "output_type": "stream",
          "name": "stdout",
          "text": [
            "MultinomialNB(): 0.687474265008647\n"
          ]
        }
      ]
    },
    {
      "cell_type": "code",
      "metadata": {
        "colab": {
          "base_uri": "https://localhost:8080/"
        },
        "id": "m1D-_JkStx_7",
        "outputId": "1d9e1596-904c-4ecb-8d26-108895de85d4"
      },
      "source": [
        "# Training Logistics Regression model\n",
        "LR_model = LogisticRegression(solver='lbfgs')\n",
        "LR_model.fit(X_train, y_train)\n",
        "y_predict_lr = LR_model.predict(X_test)\n",
        "print(\"Logistic Regression: \" + str(accuracy_score(y_test, y_predict_lr)))"
      ],
      "execution_count": null,
      "outputs": [
        {
          "output_type": "stream",
          "name": "stdout",
          "text": [
            "Logistic Regression: 0.8567899201185868\n"
          ]
        },
        {
          "output_type": "stream",
          "name": "stderr",
          "text": [
            "/usr/local/lib/python3.7/dist-packages/sklearn/linear_model/_logistic.py:818: ConvergenceWarning: lbfgs failed to converge (status=1):\n",
            "STOP: TOTAL NO. of ITERATIONS REACHED LIMIT.\n",
            "\n",
            "Increase the number of iterations (max_iter) or scale the data as shown in:\n",
            "    https://scikit-learn.org/stable/modules/preprocessing.html\n",
            "Please also refer to the documentation for alternative solver options:\n",
            "    https://scikit-learn.org/stable/modules/linear_model.html#logistic-regression\n",
            "  extra_warning_msg=_LOGISTIC_SOLVER_CONVERGENCE_MSG,\n"
          ]
        }
      ]
    }
  ]
}